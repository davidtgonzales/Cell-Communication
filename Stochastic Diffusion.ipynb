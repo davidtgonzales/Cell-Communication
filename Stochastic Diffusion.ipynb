{
 "cells": [
  {
   "cell_type": "markdown",
   "metadata": {},
   "source": [
    "# Compartment-based diffusion\n",
    "Based on **A practical guide to stochastic simulations of reaction-diffusion processes** by Erdman et al. (2007) https://arxiv.org/abs/0704.1908.\n",
    "\n",
    "Simulate time evolution of many compartments instead of computing individual trajectories of the molecules. Molecule $A$ moves from compartment $i$ to $i+1$ in the reaction scheme below, where each 'reaction' has a diffusion coefficient of $d$.\n",
    "\n",
    "\\begin{equation}\n",
    "A_1 \\leftrightarrow A_2 \\leftrightarrow A_3 \\leftrightarrow ... \\leftrightarrow A_K\n",
    "\\end{equation}\n",
    "\n",
    "#### The SSA is described as:\n",
    "1. Generate two random numbers $r_1$, $r_2$ uniformly distributed in $(0,1)$.\n",
    "2. Compute propensity functions of reactions by $\\alpha_i=dA_i(t)$ for $i=1,2,...,K$. Compute \n",
    "\\begin{equation}\n",
    "\\alpha_o=\\sum_{i=1}^{K-1}\\alpha_i+\\sum_{i=2}^{K}\\alpha_i\n",
    "\\end{equation}\n",
    "where the 1st term corresponds to the forward reactions and the second term refers to the backward reactions.\n",
    "3. Compute the time at which the next chemical reaction takes place as $t + \\tau$.\n",
    "\\begin{equation}\n",
    "\\tau=\\frac{1}{\\alpha_o}ln\\frac{1}{r_1}\n",
    "\\end{equation}\n",
    "4. If $r_2<\\sum_{i=1}^{K-1}\\alpha_i/\\alpha_o$, then find $j$ $\\epsilon$ {$1,2,3,...,K-1$} such that\n",
    "\\begin{equation}\n",
    "r_2\\geq\\frac{1}{\\alpha_o}\\sum_{i=1}^{j-1}\\alpha_i \\text{ and }\n",
    "r_2<\\frac{1}{\\alpha_o}\\sum_{i=1}^{j}\\alpha_i\n",
    "\\end{equation}\n",
    "Then compute the number of molecules at time $t+\\tau$ by\n",
    "\\begin{equation}\n",
    "A_j(t+\\tau)=A_j(t)-1\n",
    "\\end{equation}\n",
    "\\begin{equation}\n",
    "A_{j+1}(t+\\tau)=A_{j+1}(t)+1\n",
    "\\end{equation}\n",
    "\\begin{equation}\n",
    "A_i(t+\\tau)=A_i(t) \\text{ for } i\\neq j\\text{, }i\\neq j+1\n",
    "\\end{equation}\n",
    "5. If $r_2\\geq\\sum_{i=1}^{K-1}\\alpha_i/\\alpha_o$, then find $j$ $\\epsilon$ {$2,3,...,K$} such that\n",
    "\\begin{equation}\n",
    "r_2\\geq\\frac{1}{\\alpha_o}\\left(\\sum_{i=1}^{K-1}\\alpha_i+\\sum_{i=2}^{j-1}\\alpha_i\\right)\\text{ and }\n",
    "r_2<\\frac{1}{\\alpha_o}\\left(\\sum_{i=1}^{K-1}\\alpha_i+\\sum_{i=2}^{j}\\alpha_i\\right)\n",
    "\\end{equation}\n",
    "Then compute the number of molecules at time $t+\\tau$ by\n",
    "\\begin{equation}\n",
    "A_j(t+\\tau)=A_j(t)-1\n",
    "\\end{equation}\n",
    "\\begin{equation}\n",
    "A_{j-1}(t+\\tau)=A_{j-1}(t)+1\n",
    "\\end{equation}\n",
    "\\begin{equation}\n",
    "A_i(t+\\tau)=A_i(t) \\text{ for } i\\neq j\\text{, }i\\neq j−1\n",
    "\\end{equation}\n",
    "6. Repeat at $t + \\tau$."
   ]
  },
  {
   "cell_type": "markdown",
   "metadata": {},
   "source": [
    "## 1D stochastic diffusion"
   ]
  },
  {
   "cell_type": "code",
   "execution_count": 1,
   "metadata": {
    "collapsed": true
   },
   "outputs": [],
   "source": [
    "#Import packages.\n",
    "import numpy as np\n",
    "import matplotlib.pyplot as plt\n",
    "%matplotlib inline"
   ]
  },
  {
   "cell_type": "code",
   "execution_count": 2,
   "metadata": {
    "collapsed": true
   },
   "outputs": [],
   "source": [
    "#Initialize 1D array.\n",
    "size=20\n",
    "A=np.zeros((1,size))\n",
    "A[0][9]=500\n",
    "A[0][10]=500\n",
    "A[0][11]=500\n",
    "#Time steps.\n",
    "max_t=30\n",
    "t=[0]\n",
    "\n",
    "#Parameters (diffusion coefficient).\n",
    "params=[0.5]"
   ]
  },
  {
   "cell_type": "code",
   "execution_count": 3,
   "metadata": {
    "collapsed": true
   },
   "outputs": [],
   "source": [
    "def propensity(A,params):\n",
    "    #Forward reactions.\n",
    "    props_f=np.sum(A[0][0:-1]*params[0])\n",
    "    #Backward reactions.\n",
    "    props_r=np.sum(A[0][1:]*params[0])\n",
    "    #Sum.\n",
    "    props_o=props_f+props_r\n",
    "    return props_f,props_r,props_o\n",
    "def find_j_1(A,params,props_o):\n",
    "    for j in range(len(A[0])):\n",
    "        j=j+1\n",
    "        cond1=np.sum(A[0][0:j-1]*params[0])/props_o\n",
    "        cond2=np.sum(A[0][0:j]*params[0])/props_o\n",
    "        if r2>=cond1 and r2<cond2:\n",
    "            break\n",
    "    return j-1\n",
    "def find_j_2(A,params,props_o,props_f):\n",
    "    for j in range(len(A[0])):\n",
    "        j=j+1\n",
    "        cond1=(props_f+np.sum(A[0][1:j-1]*params[0]))/props_o\n",
    "        cond2=(props_f+np.sum(A[0][1:j]*params[0]))/props_o\n",
    "        if r2>=cond1 and r2<cond2:\n",
    "            break\n",
    "    return j-1"
   ]
  },
  {
   "cell_type": "code",
   "execution_count": 4,
   "metadata": {
    "collapsed": true
   },
   "outputs": [],
   "source": [
    "Af=[A]\n",
    "while t[-1]<max_t:\n",
    "    #Generate random numbers r1 and r2.\n",
    "    r1=np.random.uniform(0,1)\n",
    "    r2=np.random.uniform(0,1)\n",
    "    #Compute propensity.\n",
    "    props_f,props_r,props_o=propensity(A,params)\n",
    "    #Determine time step.\n",
    "    tau=1/props_o*np.log(1/r1)\n",
    "    #Determine reactions and update variables.\n",
    "    if r2<props_f/props_o:\n",
    "        j=find_j_1(A,params,props_o)\n",
    "        case=1\n",
    "    else:\n",
    "        j=find_j_2(A,params,props_o,props_f)\n",
    "        case=-1\n",
    "    A[0][j]=A[0][j]-1\n",
    "    A[0][j+case]=A[0][j+case]+1\n",
    "    #Update time.\n",
    "    t.append(t[-1]+tau)\n",
    "    Af=np.append(Af,[A],axis=1)"
   ]
  },
  {
   "cell_type": "code",
   "execution_count": 5,
   "metadata": {},
   "outputs": [
    {
     "data": {
      "image/png": "[encoded data removed]",
      "text/plain": [
       "<matplotlib.figure.Figure at 0x10ef57e48>"
      ]
     },
     "metadata": {},
     "output_type": "display_data"
    }
   ],
   "source": [
    "plt.figure(figsize=(20,5))\n",
    "plt.imshow(np.transpose(Af[0]),cmap='gray',interpolation='nearest',aspect='auto')\n",
    "plt.colorbar()\n",
    "plt.show()"
   ]
  }
 ],
 "metadata": {
  "kernelspec": {
   "display_name": "Python 3",
   "language": "python",
   "name": "python3"
  },
  "language_info": {
   "codemirror_mode": {
    "name": "ipython",
    "version": 3
   },
   "file_extension": ".py",
   "mimetype": "text/x-python",
   "name": "python",
   "nbconvert_exporter": "python",
   "pygments_lexer": "ipython3",
   "version": "3.6.1"
  }
 },
 "nbformat": 4,
 "nbformat_minor": 2
}
